{
 "cells": [
  {
   "cell_type": "code",
   "execution_count": 4,
   "metadata": {},
   "outputs": [
    {
     "name": "stdout",
     "output_type": "stream",
     "text": [
      "✅ Ubuntu documentation successfully stored in ChromaDB!\n"
     ]
    }
   ],
   "source": [
    "import os\n",
    "import chromadb\n",
    "from sentence_transformers import SentenceTransformer\n",
    "\n",
    "# Configurations\n",
    "DOCS_FOLDER = r\"..\\demo_bot_data\"  # Change this to your folder path\n",
    "EMBEDDING_MODEL = \"sentence-transformers/all-MiniLM-L6-v2\"\n",
    "DB_PATH = \"chromadb_store\"\n",
    "\n",
    "# Load embedding model\n",
    "model = SentenceTransformer(EMBEDDING_MODEL)\n",
    "\n",
    "# Initialize ChromaDB client\n",
    "client = chromadb.PersistentClient(path=DB_PATH)\n",
    "collection = client.get_or_create_collection(name=\"ubuntu_docs\")\n",
    "\n",
    "# Function to read Markdown files\n",
    "def load_markdown_files(folder_path):\n",
    "    docs = []\n",
    "    for root, _, files in os.walk(folder_path):\n",
    "        for file in files:\n",
    "            if file.endswith(\".md\"):\n",
    "                file_path = os.path.join(root, file)\n",
    "                with open(file_path, \"r\", encoding=\"utf-8\") as f:\n",
    "                    text = f.read()\n",
    "                    docs.append((file, text))\n",
    "    return docs\n",
    "\n",
    "# Load documents\n",
    "documents = load_markdown_files(DOCS_FOLDER)\n",
    "\n",
    "\n",
    "# Process and store in ChromaDB\n",
    "for idx, (filename, text) in enumerate(documents):\n",
    "    embedding = model.encode(text).tolist()\n",
    "    \n",
    "    # Store both filename and content in metadata\n",
    "    collection.add(\n",
    "        ids=[str(idx)],\n",
    "        embeddings=[embedding],\n",
    "        metadatas=[{\"filename\": filename, \"content\": text}]  # Ensure 'content' is stored\n",
    "    )\n",
    "\n",
    "print(\"✅ Ubuntu documentation successfully stored in ChromaDB!\")\n",
    "\n",
    "# Example Query\n",
    "# def query_docs(query_text, top_k=5):\n",
    "#     query_embedding = model.encode(query_text).tolist()\n",
    "#     results = collection.query(query_embeddings=[query_embedding], n_results=top_k)\n",
    "#     return results[\"metadatas\"]\n",
    "\n",
    "# def query_docs(query_text, top_k=5):\n",
    "#     query_embedding = model.encode(query_text).tolist()\n",
    "#     results = collection.query(query_embeddings=[query_embedding], n_results=top_k)\n",
    "\n",
    "#     # Extract metadata properly\n",
    "#     metadatas = results.get(\"metadatas\", [[]])[0]  # Extract first list from the nested structure\n",
    "#     return [metadata.get(\"filename\", \"Unknown\") for metadata in metadatas] "
   ]
  },
  {
   "cell_type": "code",
   "execution_count": 5,
   "metadata": {},
   "outputs": [
    {
     "name": "stdout",
     "output_type": "stream",
     "text": [
      "[\"---\\ntitle: Ubuntu IoT Developer Documentation\\n---\\n\\n# What is Ubuntu Core?\\n\\n<!-- \\nVersion: 2.0\\n-->\\n\\nUbuntu Core is Ubuntu for IoT and embedded environments, optimised for security and\\nreliable updates. It's easy to deploy, tamper-resistant, and hardened against\\ncorruption.\\n\\nIts read-only root filesystem is built from the same packages used to build the\\nwider set of Ubuntu distributions, and only differs in the way packages are\\ndelivered, and crucially, updated. This is all handled by snaps, a secure,\\nconfined, dependency-free, cross-platform Linux packaging system.\\n\\nSnap packages ensure there is always a clean separation between the base system\\nand whatever applications need to be installed, as well as isolation between\\neach and every application, their data, and even application version data.\\n\\nUpdates are transactional, which means they’re either 100% successful or\\nthey’re not installed. If they're not installed, they leave no trace of any\\nfailure other than log details. This means the system remains fully operational\\nand in a continuously well-defined state during both application and system\\nupdates. The system can also recover or revert to previous states if necessary, \\neven if a system fails to boot. Unlike alternative or more traditional\\npackage managers, a failed update never leaves the system in an unpredictable\\nstate.\\n\\n### Advantages for IoT\\n\\nUbuntu Core is engineered to meet the precise requirements of IoT devices. It\\nruns on a large range of hardware, including Raspberry Pi, Intel NUC, Qualcomm\\nSnapdragon 410c and even a KVM. Features include:\\n\\n- **simple, consistent installation and deployment**: Ubuntu Core is installed\\n  via an immutable image, which can be either installed or built specifically\\n  for your platform and application\\n- **a read-only filesystem**: apps run in isolation from each other and access\\n  to system resources is only granted with explicit permissions\\n- **transactional updates**: signed, autonomous and atomic, updates can withstand\\n  unpredictable hardware and network conditions, even to the operating system\\n- **snap-based, security first**: snaps are secure, easy to build, and painless\\n  to distribute. Public/private key validation ensures what's running is\\nexactly what's intended to run\\n\\nDesigned from the ground-up to solve the complex problems associated with\\ndeploying, running and updating critical software, **Ubuntu Core** makes updates\\nautomatic, reliable, secure and transparent whilst still offering a broad and\\ncarefully selected level of control and customisation over an update’s\\ndeployment.\\n\\n#### Ubuntu Core and Ubuntu\\n\\nThe Ubuntu family of Linux distributions includes Ubuntu Desktop and Ubuntu\\nServer, as well as Ubuntu Cloud which is optimised and certified for most major\\nclouds. Ubuntu Core is built from the same foundations but differs in the way\\nthose foundations are packaged and deployed.\\n\\n| **Comparison** | Ubuntu Core | Ubuntu |\\n|--|--|--|\\n| Minimum requirements | 500Mhz single-core CPU <br /> 384MB RAM, 512MB storage | 1GHz dual-core CPU <br /> 512MB RAM, 1.5GB storage | \\n| Packaging       | Snaps, with autonomous updates via either the global store or a private brand store | Debs and snaps, with traditional update mechanics and organisation |\\n| App security         | Confinement via AppArmor / Seccomp | No system-wide confinement for deb packages |\\n| Graphical UI         | None by default (Wayland or Mir are options)\\t| X.Org/GNOME or Wayland/GNOME |\\n\", '---\\ntitle: Reviewer tools\\ntable_of_contents: true\\n---\\n\\n# Reviewer tools\\n\\nThe reviewer tools are a suite of tests and utilities to help you reviewing packages. Checks that are run by default are equivalent to store default settings.\\n\\n## Install the tools\\n\\nYou first need to install the `bzr` package to fetch the source of the tools:\\n\\n```bash\\nsudo apt install bzr\\n```\\n\\nThen, get the tools and set the Python path to the root of the tools directory:\\n\\n```bash\\nbzr branch lp:click-reviewers-tools\\ncd ./click-reviewers-tools\\nexport PYTHONPATH=./\\n```\\n\\n## Run checks locally\\n\\nThe `click-review` binary is the main tool to run checks on snaps. This command takes a path to a local snap as an argument. It does not run the snap but sanity checks its metadata and paths according to the general security policy.\\n\\n```bash\\n$ ./bin/click-review /tmp/foo-snap_1.0_amd64.snap\\n```\\nIn case of success, `click-review` will print `pass`:\\n\\n```bash\\n$ ./bin/click-review /tmp/foo-snap_1.0_amd64.snap\\n/tmp/foo-snap_1.0_amd64.snap: pass\\n```\\n\\nIn case of failure, two categories of issues can be displayed: errors and warnings. Errors block a snap from being released (unless manually approved). For example:\\n\\n```bash\\n$ ./bin/click-review /tmp/foo-snap_1.0_amd64.snap\\nErrors\\n------\\n - lint-snap-v2:confinement_classic\\n\\t(NEEDS REVIEW) confinement \\'classic\\' not allowed\\n - lint-snap-v2:confinement_classic_with_interfaces\\n\\tconfinement \\'classic\\' not allowed with plugs/slots\\n\\thttps://launchpad.net/bugs/1655369\\nWarnings\\n--------\\n - lint-snap-v2:meta_gui_desktop\\n\\tdesktop interfaces (x11) specified without meta/gui/*.desktop. Please provide a desktop file via setup/gui/*.desktop if using snapcraft or meta/gui/*.desktop otherwise. It should reference one of the \\'apps\\' from your snapcraft/snap.yaml.\\n```\\n\\nYou can then:\\n\\n* ask the uploader to remove or change the offending code\\n* reject the snap\\n* approve the snap anyway\\n* edit its `snap-declaration` assertion to make it conform to your security policies or to adapt it to your users needs.\\n\\n[//]: <> (TODO: Test a snap in a virtual machine)\\n\\n## Edit snap declarations\\n\\nSnap declarations allow reviewers to enable specific features on snaps, such as allowing auto-connections of interfaces and setting up automated aliases for snap commands.\\n\\nTheir content needs to be provided in JSON through the reviewer form in the store. To ease this process, you can use the `bin/create-snap-declaration.py` script.\\n\\nFor example, the `network manager` snap declares: `slots: [ network-manager ]` and `plugs: [ firewall-control, network, network-bind, network-control, network-manager ]`. If all the plugged interfaces for network-manager are meant to be auto-connected and other snaps are to be allowed to connect to the network-manager slot, the reviewer would use:\\n\\n```bash\\n$ ./bin/create-snap-declaration.py --plug-auto-connection=network-control,firewall-control,network-manager,network,network-bind --slot-connection=network-manager\\nWARN: adding missing \\'installation\\' for \\'network-manager\\' from base decl\\nWARN: adding missing \\'auto-connection\\' for \\'network-manager\\' from base decl\\nslots:\\n{\\n  \"network-manager\": {\\n    \"allow-connection\": \"true\",\\n    \"allow-installation\": {\\n      \"slot-snap-type\": [\\n        \"app\",\\n        \"core\"\\n      ]\\n    },\\n    \"deny-auto-connection\": \"true\"\\n  }\\n}\\nplugs:\\n{\\n  \"firewall-control\": {\\n    \"allow-auto-connection\": \"true\"\\n  },\\n  \"network\": {\\n    \"allow-auto-connection\": \"true\"\\n  },\\n  \"network-bind\": {\\n    \"allow-auto-connection\": \"true\"\\n  },\\n  \"network-control\": {\\n    \"allow-auto-connection\": \"true\"\\n  },\\n  \"network-manager\": {\\n    \"allow-auto-connection\": \"true\"\\n  }\\n}\\n```\\n\\nThen paste the output into the reviewer form.\\n', '---\\ntitle: Utilities\\n---\\n\\n# Utilities\\n\\nThe following utility is useful for multiple git repository relationship\\nmanagement.\\n\\n* [git-repo](developer/git-repo/docs/index.md)\\n', \"---\\ntitle: Getting started\\ntable_of_contents: true\\n---\\n\\n# Getting started\\n\\nUbuntu Core is built from snaps, a secure, confined, dependency-free,\\ncross-platform Linux packaging solution.\\n\\nIt's ideal for IoT and embedded systems because it manages itself.\\nWhether it's running on a Raspberry Pi hidden for media streaming, or a\\nQualcomm DragonBoard tucked away in a garage to handle automation, Ubuntu Core\\nhandles application and security updates autonomously, \\n\\nSnaps are used by Ubuntu Core to both compose the image run on a device,\\nand to deliver consistent and reliable software application updates, often to\\nlow-powered, inaccessible, and remotely administered embedded and IoT systems.\\n\\nWhile Ubuntu Core can operate much like a traditional Ubuntu installation, its\\ninstallation, management and deployment is directed by its snap foundations, as\\noutlined below:\\n\\n\\n|  |  |\\n|--|--|\\n| [1. Requirements](#heading--requirements) | [3. Installing Ubuntu Core](#heading--installing) |\\n| [2. Choose a release](#heading--releases) | [4. Using Ubuntu Core](#heading--using) |\\n\\n----\\n\\n<h2 id='heading--requirements'>1. Requirements</h2>\\n\\nUbuntu Core runs on a large range of hardware, and pre-built images are\\navailable for specific reference platforms. These images are a great way to\\nquickly get started with Ubuntu Core on a Raspberry Pi, for example, or to\\nexplore Ubuntu Core's features and evaluate its potential. See [Supported\\nplatforms](../../platforms.md) for more details.\\n\\nAlongside enough storage to hold the Ubuntu Core image, installation also\\nrequires a screen and keyboard to navigate a few installation prompts. These\\naren't needed post-installation. \\n\\nAdditionally, you will need an [Ubuntu SSO account](https://login.ubuntu.com/),\\nwith associated [SSH keys](https://login.ubuntu.com/ssh-keys). This setup is\\nrequired because, after Ubuntu Core has been installed, Ubuntu SSO is used to\\nmarshal local or remote logins to your device. This behaviour can be changed\\nafter the first login. For help importing SSH keys, see the [Ubuntu community\\nwiki](https://help.ubuntu.com/community/SSH/OpenSSH/Keys).\\n\\nWhen Ubuntu Core is up and running, if you want to access your device remotely,\\nyou'll need an SSH client for your operating system. Linux and macOS both have\\nclients built-in, whereas Windows users could use [Ubuntu on\\nWSL](https://ubuntu.com/wsl).\\n\\n<h2 id='heading--releases'>2. Choose a release</h2>\\n\\nUbuntu Core releases track a corresponding [Ubuntu LTS\\nrelease](https://ubuntu.com/about/release-cycle), and there are currently three\\nsupported versions available:\\n\\n| **Ubuntu Core version** | **Ubuntu base** | **Status** |\\n|--|--|--|\\n| Ubuntu Core 20 (UC20) | [Ubuntu 20.04 LTS (Focal Fossa)](https://releases.ubuntu.com/20.04/) | [beta1](../../releases/uc20.md) |\\n| Ubuntu Core 18 (UC18) | [Ubuntu 18.04 LTS (Bionic Beaver)](https://releases.ubuntu.com/18.04/) | supported |\\n| Ubuntu Core 16 (UC16) | [Ubuntu 16.04 LTS (Xenial Xerus)](https://releases.ubuntu.com/16.04/)  | supported |\\n\\nUbuntu Core is more than a repackaged version of Ubuntu. Ubuntu Core 20, for\\nexample, offers full-disk encryption, a new recovery mode and Raspberry Pi\\nARMv7 and ARMv8 support.\\n\\nUbuntu Core 18 has the broadest hardware and compatibility support, and we\\ncurrently recommend this for general use. Ubuntu Core 16 is useful for some\\nlegacy systems.\\n\\n<h2 id='heading--installing'>3. Install Ubuntu Core</h2>\\n\\nThe typical installation procedure is as follows:\\n\\n1. **Download your preferred Ubuntu Core image for your device**</br>\\n   See [Supported platforms](../../platforms.md) for links to images.</br>\\n   By default, images are compressed with _xz_ and can be expanded with `xz -d <image-name.img.xz`.\\n1. **Write the image to your device's storage medium** (eg. SD card for Raspberry Pi)</br>\\n   We recommend using [Raspberry Pi imager](https://www.raspberrypi.org/downloads/) for Windows, macOS and Linux.\\n1. **Boot the device from the flashed storage and follow the on-screen prompts**</br>\\n   This step is version-specific, but the installation typically asks only two questions.\\n\\nFor example, when booting a fresh Ubuntu Core 18 image on a Raspberry Pi with a\\nkeyboard and monitor connected, after pressing enter twice to navigate the\\npreamble, you're first asked to configure a network connection.  Standard DHCP\\nethernet connections are configured automatically, but for integrated Wifi, you\\nneed to navigate to the `wlan0` device and press _Enter_ to access SSID and\\nwifi settings. When complete, select _Done_ to complete the network\\nconfiguration. \\n\\nThe final step for any Ubuntu Core installation is to enter the email address\\nassociated with your SSO account. This is what provides the secure and\\nautomatic authentication to your device, and subsequent reboots of your\\nhardware will show host fingerprints alongside the SSH command required to\\naccess your device. Use this to connect to your device:\\n\\n```bash\\n$ ssh <your key> <SSO identity>@<device IP address>\\n```\\n### Testing Ubuntu Core with QEmu\\n\\nYou can test Ubuntu Core without specific hardware from within a virtual\\nmachine.\\n\\nTo test Ubuntu Core with QEMU ([https://www.qemu.org/](https://www.qemu.org)),\\non Ubuntu, first install the `qemu-kvm` package and test it with _kvm-ok_:\\n\\n```bash\\n$ sudo apt install qemu-kvm\\n$ kvm-ok\\n```\\nTo ensure compatibility with the UEFI security features in Ubuntu Core 20, also\\ninstall the [OVMF](https://wiki.ubuntu.com/UEFI/OVMF) package:\\n\\n```bash\\nsudo apt install ovmf\\n```\\n\\nThe exact command to run will depend on your host hardware capabilities, such\\nas available memory and CPU cores, but the following should work in the\\nmajority of cases:\\n\\n```bash\\n$ qemu-system-x86_64 -enable-kvm -smp 2 -m 1500 \\\\\\n -netdev user,id=mynet0,hostfwd=tcp::8022-:22,hostfwd=tcp::8090-:80 \\\\\\n -device virtio-net-pci,netdev=mynet0  -drive file=pc.img,format=raw \\\\\\n -drive file=/usr/share/OVMF/OVMF_CODE.fd,if=pflash,format=raw,unit=0,readonly=on\\n```\\n\\nIn the above command, the Ubuntu Core image is called _uc.img_ and we forward\\nthe virtual SSH port 22 to port 8022 on the host, and 80 to 8090 for any web\\nserver you run. To access this configuration from your host machine, type the\\nfollowing:\\n\\n```bash\\n$ ssh <your key> <SSO identity>@<device IP address> -p 8022\\n```\\n\\n<h2 id='heading--using'>4. Using Ubuntu Core</h2>\\n\\nIn use, the Ubuntu Core environment is much like a vanilla Ubuntu environment. The\\nmain difference is that its system configuration, package management, and\\nupdate control is all governed by _snapd_, the snap daemon.\\n\\nSnap features are comprehensively explained in the [Snap\\ndocumentation](https://snapcraft.io/docs), but we'll cover some basic\\noperations below:\\n\\nYou can list which snaps are installed with _snap list_:\\n\\n```bash\\n$ snap list\\nName       Version        Rev   Tracking     Publisher   Notes\\ncore20     20             768   latest/beta  canonical✓  base\\npc         20-0.4         108   20/beta      canonical✓  gadget\\npc-kernel  5.4.0-47.51.1  598   20/beta      canonical✓  kernel\\nsnapd      2.46.1         9279  latest/beta  canonical✓  snapd\\n```\\n\\nThe above shows the standard set of snaps in a default Ubuntu Core 20\\ninstallation. For more details on what these do, see [Snaps in Ubuntu\\nCore](../../coresnaps.md).\\n\\nAs Ubuntu Core is a minimal installation, one of the first things you might\\nwant to install is a text editor. You can search for snaps using _snap find_,\\nor the [Snap Store](https://snapcraft.io/store). Nano is a good choice:\\n\\n```bash\\n$ snap install nano\\n```\\n\\nBy default, Ubuntu Core defaults to disabling access to most resources,\\nincluding writing files to your home directory. Permissions in snap and Ubuntu\\nCore are handled by _interfaces_. You can see which interfaces nano needs with\\nthe _snap connections_ command:\\n\\n```bash\\nsnap connections nano\\nInterface        Plug                  Slot  Notes\\nhome             nano:home             -     -\\nremovable-media  nano:removable-media  -     -\\n```\\n\\nConnecting the [home](https://snapcraft.io/docs/home-interface) interface\\nbetween Ubuntu Core and _nano_ will allow you to save files to your home\\ndirectory. This is accomplished with the _connect_ command:\\n\\n```bash\\n$ snap connect nano:home :home\\n$ snap connections nano\\nInterface        Plug                  Slot   Notes\\nhome             nano:home             :home  manual\\nremovable-media  nano:removable-media  -      -\\n```\\n\\nAfter running the above command, you will now be able use nano to create and\\nedit text files in your home directory!\\n\\nThe `:home` syntax denotes the _home_ slot on Ubuntu Core. For more information\\non how to work with interfaces, see [Interface\\nmanagement](https://snapcraft.io/docs/interface-management) in the snap\\ndocumentation.\\n\\nTo remove a snap from your system, along with its internal user, system and\\nconfiguration data, use the remove command:\\n\\n```bash\\n$ sudo snap remove nano\\nnano removed\\n```\\n\\nFor more information on how to work with snaps, including how to control\\ndaemons/servers, how to make data snapshots and how to install specific\\nrevisions, see the [Snap Documentation](https://snapcraft.io/docs/).\\n\", '---\\ntitle: Develop\\ntable_of_contents: true\\n---\\n\\n# Develop\\n\\nThis page will give you an overview of the lifecycle of a snap package on a brand store, with a focus on its differences with the main snap store. These differences are minimal and if you are already familiar with snaps and snapcraft, you can jump to learning how to [upload snaps to a specifc store](upload-snaps.md).\\n\\n## Lifecycle of a snap package\\n\\nSnap packages are built using snapcraft, a command-line tool which uses a YAML file as a declaration to build a package. You can easily get started with snapcraft on [snapcraft.io](https://snapcraft.io/docs/build-snaps/).\\n\\nIn a nutshell, the lifecycle of a snap is the following:\\n\\n1. Once you have built a snap, it can be pushed and released to any snap store allowing you to do so: from the command-line, from the store web UI, or from your continuous integration pipeline (eg. Travis).\\n\\n2. Snaps have their names tied and registered to a specific store, allowing for an inheritance model between stores. For example, your brand store can distribute a \"my-app\" snap inherited from the main snap store. To distribute your customized version of \"my-app\", you will have to pick a different name for it (eg. \"my-brand-app\"), allowing users to easily differentiate between the two. This also means that no other store will be able to distribute \"my-brand-app\", unless you allow it to inherit from yours.\\n\\n3. Snaps can be released through severals tracks (\"latest\", \"1.0\", \"2.0\", etc) you can create to match your software versioning scheme, each track allowing for four channels: stable, candidate, beta and edge, giving your users a very clear picture of what they are installing and its stability level.\\n\\n4. The snapd client, installed on all user devices, checks the store the client is connected to for updates several times a day and upgrades to the latest available version of your snap, for the track/channel the user is following.\\n']\n"
     ]
    }
   ],
   "source": [
    "def query_docs(query_text, top_k=5):\n",
    "    query_embedding = model.encode(query_text).tolist()\n",
    "    results = collection.query(query_embeddings=[query_embedding], n_results=top_k)\n",
    "    metadatas = results.get(\"metadatas\", [[]])[0]\n",
    "    return [metadata.get(\"content\", \"\") for metadata in metadatas]\n",
    "query = \"How to install packages in Ubuntu?\"\n",
    "\n",
    "print(query_docs(query))"
   ]
  },
  {
   "cell_type": "code",
   "execution_count": 19,
   "metadata": {},
   "outputs": [],
   "source": [
    "query = \"How to save the image in ubuntu?\"\n",
    "content1 = str(query_docs(query))"
   ]
  },
  {
   "cell_type": "code",
   "execution_count": 49,
   "metadata": {},
   "outputs": [],
   "source": [
    "collection.delete(ids=[str(i) for i in range(len(documents))])  # Clear previous data\n"
   ]
  }
 ],
 "metadata": {
  "kernelspec": {
   "display_name": "pyenv",
   "language": "python",
   "name": "python3"
  },
  "language_info": {
   "codemirror_mode": {
    "name": "ipython",
    "version": 3
   },
   "file_extension": ".py",
   "mimetype": "text/x-python",
   "name": "python",
   "nbconvert_exporter": "python",
   "pygments_lexer": "ipython3",
   "version": "3.13.1"
  }
 },
 "nbformat": 4,
 "nbformat_minor": 2
}
